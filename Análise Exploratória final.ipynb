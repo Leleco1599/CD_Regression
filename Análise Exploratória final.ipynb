{
 "cells": [
  {
   "cell_type": "markdown",
   "metadata": {},
   "source": [
    "## Análise Exploratória##\n",
    "\n",
    "O intuito desse trabalho é elaborar uma regressão linear capaz de prever o número total de unidades vendidades de um game, com base em certas características dele. Para isso, é utilizado um dataset contendo diversos jogos, junto de seu ano de lançamento, gênero, numero total de vendas, publisher, entre outros."
   ]
  },
  {
   "cell_type": "code",
   "execution_count": 262,
   "metadata": {},
   "outputs": [],
   "source": [
    "%matplotlib inline\n",
    "import pandas as pd\n",
    "import numpy as np\n",
    "import math as math\n",
    "from scipy import stats\n",
    "import matplotlib.pyplot as plt\n",
    "import re"
   ]
  },
  {
   "cell_type": "markdown",
   "metadata": {},
   "source": [
    "Começamos importando o arquivo csv que contém o dataset. Além disso, selecionamos somente as categorias que nos interessam. Dessa forma, excluimos as vendas em regiões específicas, já que nosso objetivo é somente prever suas vendas globais. Quanto aos critérios referentes à avaliação dos jogos, mantivemos somente a nota da crítica especializada.\n",
    "Após feito isso, removemos as colunas contendo \"Nan\", de modo a aumentar a acurácia da análise."
   ]
  },
  {
   "cell_type": "code",
   "execution_count": 339,
   "metadata": {
    "scrolled": false
   },
   "outputs": [],
   "source": [
    "dados =  pd.read_csv('Video_Games_Sales_as_at_22_Dec_2016.csv')\n",
    "dados_filtrado = dados.loc[:, [\"Name\", \"Platform\",\"Year_of_Release\",\"Genre\",\"Publisher\",\"Global_Sales\",\"Critic_Score\"]].dropna()\n"
   ]
  },
  {
   "cell_type": "markdown",
   "metadata": {},
   "source": [
    "Tendo feito isso, separamos os jogos lançados a partir de 2013 do restante do grupo, de modo a conseguir um conjunto de dados mais coerente com o momento atual:"
   ]
  },
  {
   "cell_type": "code",
   "execution_count": 264,
   "metadata": {},
   "outputs": [],
   "source": [
    "#gêneros\n",
    "#Sports; Role-Playing; Misc; Racing; Platform; Puzzle; Shooter; Simulation; Action; Fighting; Adventure; "
   ]
  },
  {
   "cell_type": "code",
   "execution_count": 265,
   "metadata": {},
   "outputs": [
    {
     "data": {
      "text/html": [
       "<div>\n",
       "<style scoped>\n",
       "    .dataframe tbody tr th:only-of-type {\n",
       "        vertical-align: middle;\n",
       "    }\n",
       "\n",
       "    .dataframe tbody tr th {\n",
       "        vertical-align: top;\n",
       "    }\n",
       "\n",
       "    .dataframe thead th {\n",
       "        text-align: right;\n",
       "    }\n",
       "</style>\n",
       "<table border=\"1\" class=\"dataframe\">\n",
       "  <thead>\n",
       "    <tr style=\"text-align: right;\">\n",
       "      <th></th>\n",
       "      <th>Name</th>\n",
       "      <th>Platform</th>\n",
       "      <th>Year_of_Release</th>\n",
       "      <th>Genre</th>\n",
       "      <th>Publisher</th>\n",
       "      <th>Global_Sales</th>\n",
       "      <th>Critic_Score</th>\n",
       "    </tr>\n",
       "  </thead>\n",
       "  <tbody>\n",
       "    <tr>\n",
       "      <th>16</th>\n",
       "      <td>Grand Theft Auto V</td>\n",
       "      <td>PS3</td>\n",
       "      <td>2013.0</td>\n",
       "      <td>Action</td>\n",
       "      <td>Take-Two Interactive</td>\n",
       "      <td>21.04</td>\n",
       "      <td>97.0</td>\n",
       "    </tr>\n",
       "    <tr>\n",
       "      <th>23</th>\n",
       "      <td>Grand Theft Auto V</td>\n",
       "      <td>X360</td>\n",
       "      <td>2013.0</td>\n",
       "      <td>Action</td>\n",
       "      <td>Take-Two Interactive</td>\n",
       "      <td>16.27</td>\n",
       "      <td>97.0</td>\n",
       "    </tr>\n",
       "    <tr>\n",
       "      <th>42</th>\n",
       "      <td>Grand Theft Auto V</td>\n",
       "      <td>PS4</td>\n",
       "      <td>2014.0</td>\n",
       "      <td>Action</td>\n",
       "      <td>Take-Two Interactive</td>\n",
       "      <td>12.61</td>\n",
       "      <td>97.0</td>\n",
       "    </tr>\n",
       "    <tr>\n",
       "      <th>60</th>\n",
       "      <td>Call of Duty: Ghosts</td>\n",
       "      <td>X360</td>\n",
       "      <td>2013.0</td>\n",
       "      <td>Shooter</td>\n",
       "      <td>Activision</td>\n",
       "      <td>10.25</td>\n",
       "      <td>73.0</td>\n",
       "    </tr>\n",
       "    <tr>\n",
       "      <th>69</th>\n",
       "      <td>Call of Duty: Ghosts</td>\n",
       "      <td>PS3</td>\n",
       "      <td>2013.0</td>\n",
       "      <td>Shooter</td>\n",
       "      <td>Activision</td>\n",
       "      <td>9.36</td>\n",
       "      <td>71.0</td>\n",
       "    </tr>\n",
       "    <tr>\n",
       "      <th>77</th>\n",
       "      <td>FIFA 16</td>\n",
       "      <td>PS4</td>\n",
       "      <td>2015.0</td>\n",
       "      <td>Sports</td>\n",
       "      <td>Electronic Arts</td>\n",
       "      <td>8.57</td>\n",
       "      <td>82.0</td>\n",
       "    </tr>\n",
       "    <tr>\n",
       "      <th>92</th>\n",
       "      <td>Call of Duty: Advanced Warfare</td>\n",
       "      <td>PS4</td>\n",
       "      <td>2014.0</td>\n",
       "      <td>Shooter</td>\n",
       "      <td>Activision</td>\n",
       "      <td>7.66</td>\n",
       "      <td>83.0</td>\n",
       "    </tr>\n",
       "    <tr>\n",
       "      <th>94</th>\n",
       "      <td>FIFA 17</td>\n",
       "      <td>PS4</td>\n",
       "      <td>2016.0</td>\n",
       "      <td>Sports</td>\n",
       "      <td>Electronic Arts</td>\n",
       "      <td>7.59</td>\n",
       "      <td>85.0</td>\n",
       "    </tr>\n",
       "    <tr>\n",
       "      <th>105</th>\n",
       "      <td>Fallout 4</td>\n",
       "      <td>PS4</td>\n",
       "      <td>2015.0</td>\n",
       "      <td>Role-Playing</td>\n",
       "      <td>Bethesda Softworks</td>\n",
       "      <td>7.16</td>\n",
       "      <td>87.0</td>\n",
       "    </tr>\n",
       "    <tr>\n",
       "      <th>110</th>\n",
       "      <td>Mario Kart 8</td>\n",
       "      <td>WiiU</td>\n",
       "      <td>2014.0</td>\n",
       "      <td>Racing</td>\n",
       "      <td>Nintendo</td>\n",
       "      <td>7.09</td>\n",
       "      <td>88.0</td>\n",
       "    </tr>\n",
       "    <tr>\n",
       "      <th>126</th>\n",
       "      <td>FIFA 14</td>\n",
       "      <td>PS3</td>\n",
       "      <td>2013.0</td>\n",
       "      <td>Sports</td>\n",
       "      <td>Electronic Arts</td>\n",
       "      <td>6.47</td>\n",
       "      <td>86.0</td>\n",
       "    </tr>\n",
       "    <tr>\n",
       "      <th>143</th>\n",
       "      <td>FIFA 15</td>\n",
       "      <td>PS4</td>\n",
       "      <td>2014.0</td>\n",
       "      <td>Sports</td>\n",
       "      <td>Electronic Arts</td>\n",
       "      <td>6.08</td>\n",
       "      <td>82.0</td>\n",
       "    </tr>\n",
       "    <tr>\n",
       "      <th>149</th>\n",
       "      <td>The Last of Us</td>\n",
       "      <td>PS3</td>\n",
       "      <td>2013.0</td>\n",
       "      <td>Action</td>\n",
       "      <td>Sony Computer Entertainment Europe</td>\n",
       "      <td>5.87</td>\n",
       "      <td>95.0</td>\n",
       "    </tr>\n",
       "    <tr>\n",
       "      <th>154</th>\n",
       "      <td>Destiny</td>\n",
       "      <td>PS4</td>\n",
       "      <td>2014.0</td>\n",
       "      <td>Shooter</td>\n",
       "      <td>Activision</td>\n",
       "      <td>5.64</td>\n",
       "      <td>76.0</td>\n",
       "    </tr>\n",
       "    <tr>\n",
       "      <th>165</th>\n",
       "      <td>Grand Theft Auto V</td>\n",
       "      <td>XOne</td>\n",
       "      <td>2014.0</td>\n",
       "      <td>Action</td>\n",
       "      <td>Take-Two Interactive</td>\n",
       "      <td>5.48</td>\n",
       "      <td>97.0</td>\n",
       "    </tr>\n",
       "    <tr>\n",
       "      <th>171</th>\n",
       "      <td>Uncharted 4: A Thief's End</td>\n",
       "      <td>PS4</td>\n",
       "      <td>2016.0</td>\n",
       "      <td>Shooter</td>\n",
       "      <td>Sony Computer Entertainment</td>\n",
       "      <td>5.38</td>\n",
       "      <td>93.0</td>\n",
       "    </tr>\n",
       "    <tr>\n",
       "      <th>179</th>\n",
       "      <td>Call of Duty: Advanced Warfare</td>\n",
       "      <td>XOne</td>\n",
       "      <td>2014.0</td>\n",
       "      <td>Shooter</td>\n",
       "      <td>Activision</td>\n",
       "      <td>5.27</td>\n",
       "      <td>81.0</td>\n",
       "    </tr>\n",
       "    <tr>\n",
       "      <th>231</th>\n",
       "      <td>Uncharted: The Nathan Drake Collection</td>\n",
       "      <td>PS4</td>\n",
       "      <td>2015.0</td>\n",
       "      <td>Action</td>\n",
       "      <td>Sony Computer Entertainment</td>\n",
       "      <td>4.62</td>\n",
       "      <td>86.0</td>\n",
       "    </tr>\n",
       "    <tr>\n",
       "      <th>235</th>\n",
       "      <td>Luigi's Mansion: Dark Moon</td>\n",
       "      <td>3DS</td>\n",
       "      <td>2013.0</td>\n",
       "      <td>Action</td>\n",
       "      <td>Nintendo</td>\n",
       "      <td>4.59</td>\n",
       "      <td>86.0</td>\n",
       "    </tr>\n",
       "    <tr>\n",
       "      <th>242</th>\n",
       "      <td>Halo 5: Guardians</td>\n",
       "      <td>XOne</td>\n",
       "      <td>2015.0</td>\n",
       "      <td>Shooter</td>\n",
       "      <td>Microsoft Game Studios</td>\n",
       "      <td>4.48</td>\n",
       "      <td>84.0</td>\n",
       "    </tr>\n",
       "    <tr>\n",
       "      <th>245</th>\n",
       "      <td>Call of Duty: Infinite Warfare</td>\n",
       "      <td>PS4</td>\n",
       "      <td>2016.0</td>\n",
       "      <td>Shooter</td>\n",
       "      <td>Activision</td>\n",
       "      <td>4.46</td>\n",
       "      <td>77.0</td>\n",
       "    </tr>\n",
       "    <tr>\n",
       "      <th>247</th>\n",
       "      <td>Splatoon</td>\n",
       "      <td>WiiU</td>\n",
       "      <td>2015.0</td>\n",
       "      <td>Shooter</td>\n",
       "      <td>Nintendo</td>\n",
       "      <td>4.43</td>\n",
       "      <td>81.0</td>\n",
       "    </tr>\n",
       "    <tr>\n",
       "      <th>260</th>\n",
       "      <td>Super Mario 3D World</td>\n",
       "      <td>WiiU</td>\n",
       "      <td>2013.0</td>\n",
       "      <td>Platform</td>\n",
       "      <td>Nintendo</td>\n",
       "      <td>4.32</td>\n",
       "      <td>93.0</td>\n",
       "    </tr>\n",
       "    <tr>\n",
       "      <th>270</th>\n",
       "      <td>Fallout 4</td>\n",
       "      <td>XOne</td>\n",
       "      <td>2015.0</td>\n",
       "      <td>Role-Playing</td>\n",
       "      <td>Bethesda Softworks</td>\n",
       "      <td>4.22</td>\n",
       "      <td>88.0</td>\n",
       "    </tr>\n",
       "    <tr>\n",
       "      <th>271</th>\n",
       "      <td>FIFA 14</td>\n",
       "      <td>X360</td>\n",
       "      <td>2013.0</td>\n",
       "      <td>Sports</td>\n",
       "      <td>Electronic Arts</td>\n",
       "      <td>4.22</td>\n",
       "      <td>84.0</td>\n",
       "    </tr>\n",
       "    <tr>\n",
       "      <th>289</th>\n",
       "      <td>Battlefield 1</td>\n",
       "      <td>PS4</td>\n",
       "      <td>2016.0</td>\n",
       "      <td>Shooter</td>\n",
       "      <td>Electronic Arts</td>\n",
       "      <td>4.08</td>\n",
       "      <td>88.0</td>\n",
       "    </tr>\n",
       "    <tr>\n",
       "      <th>295</th>\n",
       "      <td>Watch Dogs</td>\n",
       "      <td>PS4</td>\n",
       "      <td>2014.0</td>\n",
       "      <td>Action</td>\n",
       "      <td>Ubisoft</td>\n",
       "      <td>4.05</td>\n",
       "      <td>80.0</td>\n",
       "    </tr>\n",
       "    <tr>\n",
       "      <th>298</th>\n",
       "      <td>Far Cry 4</td>\n",
       "      <td>PS4</td>\n",
       "      <td>2014.0</td>\n",
       "      <td>Shooter</td>\n",
       "      <td>Ubisoft</td>\n",
       "      <td>4.04</td>\n",
       "      <td>85.0</td>\n",
       "    </tr>\n",
       "    <tr>\n",
       "      <th>303</th>\n",
       "      <td>The Witcher 3: Wild Hunt</td>\n",
       "      <td>PS4</td>\n",
       "      <td>2015.0</td>\n",
       "      <td>Role-Playing</td>\n",
       "      <td>Namco Bandai Games</td>\n",
       "      <td>3.97</td>\n",
       "      <td>92.0</td>\n",
       "    </tr>\n",
       "    <tr>\n",
       "      <th>304</th>\n",
       "      <td>Assassin's Creed: Unity</td>\n",
       "      <td>PS4</td>\n",
       "      <td>2014.0</td>\n",
       "      <td>Action</td>\n",
       "      <td>Ubisoft</td>\n",
       "      <td>3.96</td>\n",
       "      <td>70.0</td>\n",
       "    </tr>\n",
       "    <tr>\n",
       "      <th>...</th>\n",
       "      <td>...</td>\n",
       "      <td>...</td>\n",
       "      <td>...</td>\n",
       "      <td>...</td>\n",
       "      <td>...</td>\n",
       "      <td>...</td>\n",
       "      <td>...</td>\n",
       "    </tr>\n",
       "    <tr>\n",
       "      <th>16145</th>\n",
       "      <td>Azure Striker Gunvolt</td>\n",
       "      <td>3DS</td>\n",
       "      <td>2016.0</td>\n",
       "      <td>Action</td>\n",
       "      <td>Yacht Club Games</td>\n",
       "      <td>0.01</td>\n",
       "      <td>77.0</td>\n",
       "    </tr>\n",
       "    <tr>\n",
       "      <th>16148</th>\n",
       "      <td>Don Bradman Cricket 14</td>\n",
       "      <td>PS3</td>\n",
       "      <td>2014.0</td>\n",
       "      <td>Sports</td>\n",
       "      <td>Tru Blu Entertainment</td>\n",
       "      <td>0.01</td>\n",
       "      <td>73.0</td>\n",
       "    </tr>\n",
       "    <tr>\n",
       "      <th>16170</th>\n",
       "      <td>War for the Overworld</td>\n",
       "      <td>PC</td>\n",
       "      <td>2015.0</td>\n",
       "      <td>Strategy</td>\n",
       "      <td>Unknown</td>\n",
       "      <td>0.01</td>\n",
       "      <td>65.0</td>\n",
       "    </tr>\n",
       "    <tr>\n",
       "      <th>16190</th>\n",
       "      <td>Darksiders: Warmastered Edition</td>\n",
       "      <td>XOne</td>\n",
       "      <td>2016.0</td>\n",
       "      <td>Action</td>\n",
       "      <td>Nordic Games</td>\n",
       "      <td>0.01</td>\n",
       "      <td>80.0</td>\n",
       "    </tr>\n",
       "    <tr>\n",
       "      <th>16203</th>\n",
       "      <td>The Technomancer</td>\n",
       "      <td>PC</td>\n",
       "      <td>2016.0</td>\n",
       "      <td>Role-Playing</td>\n",
       "      <td>Focus Home Interactive</td>\n",
       "      <td>0.01</td>\n",
       "      <td>56.0</td>\n",
       "    </tr>\n",
       "    <tr>\n",
       "      <th>16263</th>\n",
       "      <td>htoL#NiQ: The Firefly Diary</td>\n",
       "      <td>PSV</td>\n",
       "      <td>2014.0</td>\n",
       "      <td>Platform</td>\n",
       "      <td>Nippon Ichi Software</td>\n",
       "      <td>0.01</td>\n",
       "      <td>58.0</td>\n",
       "    </tr>\n",
       "    <tr>\n",
       "      <th>16267</th>\n",
       "      <td>Worms: WMD</td>\n",
       "      <td>XOne</td>\n",
       "      <td>2016.0</td>\n",
       "      <td>Action</td>\n",
       "      <td>Sold Out</td>\n",
       "      <td>0.01</td>\n",
       "      <td>75.0</td>\n",
       "    </tr>\n",
       "    <tr>\n",
       "      <th>16276</th>\n",
       "      <td>Doki-Doki Universe</td>\n",
       "      <td>PSV</td>\n",
       "      <td>2013.0</td>\n",
       "      <td>Adventure</td>\n",
       "      <td>Sony Computer Entertainment</td>\n",
       "      <td>0.01</td>\n",
       "      <td>66.0</td>\n",
       "    </tr>\n",
       "    <tr>\n",
       "      <th>16283</th>\n",
       "      <td>Sherlock Holmes: The Devil's Daughter</td>\n",
       "      <td>PC</td>\n",
       "      <td>2016.0</td>\n",
       "      <td>Adventure</td>\n",
       "      <td>Bigben Interactive</td>\n",
       "      <td>0.01</td>\n",
       "      <td>65.0</td>\n",
       "    </tr>\n",
       "    <tr>\n",
       "      <th>16317</th>\n",
       "      <td>Prototype: Biohazard Bundle</td>\n",
       "      <td>XOne</td>\n",
       "      <td>2016.0</td>\n",
       "      <td>Action</td>\n",
       "      <td>Activision</td>\n",
       "      <td>0.01</td>\n",
       "      <td>56.0</td>\n",
       "    </tr>\n",
       "    <tr>\n",
       "      <th>16325</th>\n",
       "      <td>Agatha Christie's The ABC Murders</td>\n",
       "      <td>XOne</td>\n",
       "      <td>2016.0</td>\n",
       "      <td>Adventure</td>\n",
       "      <td>Microids</td>\n",
       "      <td>0.01</td>\n",
       "      <td>66.0</td>\n",
       "    </tr>\n",
       "    <tr>\n",
       "      <th>16340</th>\n",
       "      <td>Battle Worlds: Kronos</td>\n",
       "      <td>PC</td>\n",
       "      <td>2016.0</td>\n",
       "      <td>Strategy</td>\n",
       "      <td>Nordic Games</td>\n",
       "      <td>0.01</td>\n",
       "      <td>71.0</td>\n",
       "    </tr>\n",
       "    <tr>\n",
       "      <th>16396</th>\n",
       "      <td>Goat Simulator</td>\n",
       "      <td>XOne</td>\n",
       "      <td>2016.0</td>\n",
       "      <td>Simulation</td>\n",
       "      <td>Koch Media</td>\n",
       "      <td>0.01</td>\n",
       "      <td>53.0</td>\n",
       "    </tr>\n",
       "    <tr>\n",
       "      <th>16416</th>\n",
       "      <td>Legend of Kay Anniversary</td>\n",
       "      <td>WiiU</td>\n",
       "      <td>2015.0</td>\n",
       "      <td>Action</td>\n",
       "      <td>Nordic Games</td>\n",
       "      <td>0.01</td>\n",
       "      <td>67.0</td>\n",
       "    </tr>\n",
       "    <tr>\n",
       "      <th>16424</th>\n",
       "      <td>Mario vs. Donkey Kong: Tipping Stars</td>\n",
       "      <td>WiiU</td>\n",
       "      <td>2015.0</td>\n",
       "      <td>Puzzle</td>\n",
       "      <td>Nintendo</td>\n",
       "      <td>0.01</td>\n",
       "      <td>70.0</td>\n",
       "    </tr>\n",
       "    <tr>\n",
       "      <th>16427</th>\n",
       "      <td>Cities: Skylines Snowfall</td>\n",
       "      <td>PC</td>\n",
       "      <td>2016.0</td>\n",
       "      <td>Simulation</td>\n",
       "      <td>Paradox Development</td>\n",
       "      <td>0.01</td>\n",
       "      <td>72.0</td>\n",
       "    </tr>\n",
       "    <tr>\n",
       "      <th>16457</th>\n",
       "      <td>Act of Aggression</td>\n",
       "      <td>PC</td>\n",
       "      <td>2015.0</td>\n",
       "      <td>Strategy</td>\n",
       "      <td>Focus Home Interactive</td>\n",
       "      <td>0.01</td>\n",
       "      <td>71.0</td>\n",
       "    </tr>\n",
       "    <tr>\n",
       "      <th>16467</th>\n",
       "      <td>TrackMania Turbo</td>\n",
       "      <td>PC</td>\n",
       "      <td>2016.0</td>\n",
       "      <td>Action</td>\n",
       "      <td>Ubisoft</td>\n",
       "      <td>0.01</td>\n",
       "      <td>79.0</td>\n",
       "    </tr>\n",
       "    <tr>\n",
       "      <th>16490</th>\n",
       "      <td>Super Dungeon Bros</td>\n",
       "      <td>PS4</td>\n",
       "      <td>2016.0</td>\n",
       "      <td>Action</td>\n",
       "      <td>Nordic Games</td>\n",
       "      <td>0.01</td>\n",
       "      <td>42.0</td>\n",
       "    </tr>\n",
       "    <tr>\n",
       "      <th>16503</th>\n",
       "      <td>Sherlock Holmes: The Devil's Daughter</td>\n",
       "      <td>PS4</td>\n",
       "      <td>2016.0</td>\n",
       "      <td>Adventure</td>\n",
       "      <td>Bigben Interactive</td>\n",
       "      <td>0.01</td>\n",
       "      <td>70.0</td>\n",
       "    </tr>\n",
       "    <tr>\n",
       "      <th>16504</th>\n",
       "      <td>Root Letter</td>\n",
       "      <td>PS4</td>\n",
       "      <td>2016.0</td>\n",
       "      <td>Adventure</td>\n",
       "      <td>PQube</td>\n",
       "      <td>0.01</td>\n",
       "      <td>69.0</td>\n",
       "    </tr>\n",
       "    <tr>\n",
       "      <th>16513</th>\n",
       "      <td>Ride 2</td>\n",
       "      <td>PC</td>\n",
       "      <td>2016.0</td>\n",
       "      <td>Racing</td>\n",
       "      <td>Milestone S.r.l</td>\n",
       "      <td>0.01</td>\n",
       "      <td>78.0</td>\n",
       "    </tr>\n",
       "    <tr>\n",
       "      <th>16514</th>\n",
       "      <td>Art Academy: Home Studio</td>\n",
       "      <td>WiiU</td>\n",
       "      <td>2015.0</td>\n",
       "      <td>Misc</td>\n",
       "      <td>Nintendo</td>\n",
       "      <td>0.01</td>\n",
       "      <td>82.0</td>\n",
       "    </tr>\n",
       "    <tr>\n",
       "      <th>16530</th>\n",
       "      <td>Dungeons 2</td>\n",
       "      <td>PS4</td>\n",
       "      <td>2016.0</td>\n",
       "      <td>Role-Playing</td>\n",
       "      <td>Kalypso Media</td>\n",
       "      <td>0.01</td>\n",
       "      <td>61.0</td>\n",
       "    </tr>\n",
       "    <tr>\n",
       "      <th>16534</th>\n",
       "      <td>Carmageddon: Max Damage</td>\n",
       "      <td>PS4</td>\n",
       "      <td>2016.0</td>\n",
       "      <td>Action</td>\n",
       "      <td>Stainless Games</td>\n",
       "      <td>0.01</td>\n",
       "      <td>51.0</td>\n",
       "    </tr>\n",
       "    <tr>\n",
       "      <th>16601</th>\n",
       "      <td>Saints Row: Gat out of Hell</td>\n",
       "      <td>XOne</td>\n",
       "      <td>2015.0</td>\n",
       "      <td>Action</td>\n",
       "      <td>Deep Silver</td>\n",
       "      <td>0.01</td>\n",
       "      <td>65.0</td>\n",
       "    </tr>\n",
       "    <tr>\n",
       "      <th>16634</th>\n",
       "      <td>Sébastien Loeb Rally Evo</td>\n",
       "      <td>XOne</td>\n",
       "      <td>2016.0</td>\n",
       "      <td>Racing</td>\n",
       "      <td>Milestone S.r.l</td>\n",
       "      <td>0.01</td>\n",
       "      <td>63.0</td>\n",
       "    </tr>\n",
       "    <tr>\n",
       "      <th>16656</th>\n",
       "      <td>Fast Racing Neo</td>\n",
       "      <td>WiiU</td>\n",
       "      <td>2016.0</td>\n",
       "      <td>Action</td>\n",
       "      <td>Nintendo</td>\n",
       "      <td>0.01</td>\n",
       "      <td>81.0</td>\n",
       "    </tr>\n",
       "    <tr>\n",
       "      <th>16664</th>\n",
       "      <td>Prison Architect</td>\n",
       "      <td>XOne</td>\n",
       "      <td>2016.0</td>\n",
       "      <td>Action</td>\n",
       "      <td>Introversion Software</td>\n",
       "      <td>0.01</td>\n",
       "      <td>74.0</td>\n",
       "    </tr>\n",
       "    <tr>\n",
       "      <th>16696</th>\n",
       "      <td>Metal Gear Solid V: Ground Zeroes</td>\n",
       "      <td>PC</td>\n",
       "      <td>2014.0</td>\n",
       "      <td>Action</td>\n",
       "      <td>Konami Digital Entertainment</td>\n",
       "      <td>0.01</td>\n",
       "      <td>80.0</td>\n",
       "    </tr>\n",
       "  </tbody>\n",
       "</table>\n",
       "<p>991 rows × 7 columns</p>\n",
       "</div>"
      ],
      "text/plain": [
       "                                         Name Platform  Year_of_Release  \\\n",
       "16                         Grand Theft Auto V      PS3           2013.0   \n",
       "23                         Grand Theft Auto V     X360           2013.0   \n",
       "42                         Grand Theft Auto V      PS4           2014.0   \n",
       "60                       Call of Duty: Ghosts     X360           2013.0   \n",
       "69                       Call of Duty: Ghosts      PS3           2013.0   \n",
       "77                                    FIFA 16      PS4           2015.0   \n",
       "92             Call of Duty: Advanced Warfare      PS4           2014.0   \n",
       "94                                    FIFA 17      PS4           2016.0   \n",
       "105                                 Fallout 4      PS4           2015.0   \n",
       "110                              Mario Kart 8     WiiU           2014.0   \n",
       "126                                   FIFA 14      PS3           2013.0   \n",
       "143                                   FIFA 15      PS4           2014.0   \n",
       "149                            The Last of Us      PS3           2013.0   \n",
       "154                                   Destiny      PS4           2014.0   \n",
       "165                        Grand Theft Auto V     XOne           2014.0   \n",
       "171                Uncharted 4: A Thief's End      PS4           2016.0   \n",
       "179            Call of Duty: Advanced Warfare     XOne           2014.0   \n",
       "231    Uncharted: The Nathan Drake Collection      PS4           2015.0   \n",
       "235                Luigi's Mansion: Dark Moon      3DS           2013.0   \n",
       "242                         Halo 5: Guardians     XOne           2015.0   \n",
       "245            Call of Duty: Infinite Warfare      PS4           2016.0   \n",
       "247                                  Splatoon     WiiU           2015.0   \n",
       "260                      Super Mario 3D World     WiiU           2013.0   \n",
       "270                                 Fallout 4     XOne           2015.0   \n",
       "271                                   FIFA 14     X360           2013.0   \n",
       "289                             Battlefield 1      PS4           2016.0   \n",
       "295                                Watch Dogs      PS4           2014.0   \n",
       "298                                 Far Cry 4      PS4           2014.0   \n",
       "303                  The Witcher 3: Wild Hunt      PS4           2015.0   \n",
       "304                   Assassin's Creed: Unity      PS4           2014.0   \n",
       "...                                       ...      ...              ...   \n",
       "16145                   Azure Striker Gunvolt      3DS           2016.0   \n",
       "16148                  Don Bradman Cricket 14      PS3           2014.0   \n",
       "16170                   War for the Overworld       PC           2015.0   \n",
       "16190         Darksiders: Warmastered Edition     XOne           2016.0   \n",
       "16203                        The Technomancer       PC           2016.0   \n",
       "16263             htoL#NiQ: The Firefly Diary      PSV           2014.0   \n",
       "16267                              Worms: WMD     XOne           2016.0   \n",
       "16276                      Doki-Doki Universe      PSV           2013.0   \n",
       "16283   Sherlock Holmes: The Devil's Daughter       PC           2016.0   \n",
       "16317             Prototype: Biohazard Bundle     XOne           2016.0   \n",
       "16325       Agatha Christie's The ABC Murders     XOne           2016.0   \n",
       "16340                   Battle Worlds: Kronos       PC           2016.0   \n",
       "16396                          Goat Simulator     XOne           2016.0   \n",
       "16416               Legend of Kay Anniversary     WiiU           2015.0   \n",
       "16424    Mario vs. Donkey Kong: Tipping Stars     WiiU           2015.0   \n",
       "16427               Cities: Skylines Snowfall       PC           2016.0   \n",
       "16457                       Act of Aggression       PC           2015.0   \n",
       "16467                        TrackMania Turbo       PC           2016.0   \n",
       "16490                      Super Dungeon Bros      PS4           2016.0   \n",
       "16503   Sherlock Holmes: The Devil's Daughter      PS4           2016.0   \n",
       "16504                             Root Letter      PS4           2016.0   \n",
       "16513                                  Ride 2       PC           2016.0   \n",
       "16514                Art Academy: Home Studio     WiiU           2015.0   \n",
       "16530                              Dungeons 2      PS4           2016.0   \n",
       "16534                 Carmageddon: Max Damage      PS4           2016.0   \n",
       "16601             Saints Row: Gat out of Hell     XOne           2015.0   \n",
       "16634                Sébastien Loeb Rally Evo     XOne           2016.0   \n",
       "16656                        Fast Racing Neo      WiiU           2016.0   \n",
       "16664                        Prison Architect     XOne           2016.0   \n",
       "16696       Metal Gear Solid V: Ground Zeroes       PC           2014.0   \n",
       "\n",
       "              Genre                           Publisher  Global_Sales  \\\n",
       "16           Action                Take-Two Interactive         21.04   \n",
       "23           Action                Take-Two Interactive         16.27   \n",
       "42           Action                Take-Two Interactive         12.61   \n",
       "60          Shooter                          Activision         10.25   \n",
       "69          Shooter                          Activision          9.36   \n",
       "77           Sports                     Electronic Arts          8.57   \n",
       "92          Shooter                          Activision          7.66   \n",
       "94           Sports                     Electronic Arts          7.59   \n",
       "105    Role-Playing                  Bethesda Softworks          7.16   \n",
       "110          Racing                            Nintendo          7.09   \n",
       "126          Sports                     Electronic Arts          6.47   \n",
       "143          Sports                     Electronic Arts          6.08   \n",
       "149          Action  Sony Computer Entertainment Europe          5.87   \n",
       "154         Shooter                          Activision          5.64   \n",
       "165          Action                Take-Two Interactive          5.48   \n",
       "171         Shooter         Sony Computer Entertainment          5.38   \n",
       "179         Shooter                          Activision          5.27   \n",
       "231          Action         Sony Computer Entertainment          4.62   \n",
       "235          Action                            Nintendo          4.59   \n",
       "242         Shooter              Microsoft Game Studios          4.48   \n",
       "245         Shooter                          Activision          4.46   \n",
       "247         Shooter                            Nintendo          4.43   \n",
       "260        Platform                            Nintendo          4.32   \n",
       "270    Role-Playing                  Bethesda Softworks          4.22   \n",
       "271          Sports                     Electronic Arts          4.22   \n",
       "289         Shooter                     Electronic Arts          4.08   \n",
       "295          Action                             Ubisoft          4.05   \n",
       "298         Shooter                             Ubisoft          4.04   \n",
       "303    Role-Playing                  Namco Bandai Games          3.97   \n",
       "304          Action                             Ubisoft          3.96   \n",
       "...             ...                                 ...           ...   \n",
       "16145        Action                    Yacht Club Games          0.01   \n",
       "16148        Sports               Tru Blu Entertainment          0.01   \n",
       "16170      Strategy                             Unknown          0.01   \n",
       "16190        Action                        Nordic Games          0.01   \n",
       "16203  Role-Playing              Focus Home Interactive          0.01   \n",
       "16263      Platform                Nippon Ichi Software          0.01   \n",
       "16267        Action                            Sold Out          0.01   \n",
       "16276     Adventure         Sony Computer Entertainment          0.01   \n",
       "16283     Adventure                  Bigben Interactive          0.01   \n",
       "16317        Action                          Activision          0.01   \n",
       "16325     Adventure                            Microids          0.01   \n",
       "16340      Strategy                        Nordic Games          0.01   \n",
       "16396    Simulation                          Koch Media          0.01   \n",
       "16416        Action                        Nordic Games          0.01   \n",
       "16424        Puzzle                            Nintendo          0.01   \n",
       "16427    Simulation                 Paradox Development          0.01   \n",
       "16457      Strategy              Focus Home Interactive          0.01   \n",
       "16467        Action                             Ubisoft          0.01   \n",
       "16490        Action                        Nordic Games          0.01   \n",
       "16503     Adventure                  Bigben Interactive          0.01   \n",
       "16504     Adventure                               PQube          0.01   \n",
       "16513        Racing                     Milestone S.r.l          0.01   \n",
       "16514          Misc                            Nintendo          0.01   \n",
       "16530  Role-Playing                       Kalypso Media          0.01   \n",
       "16534        Action                     Stainless Games          0.01   \n",
       "16601        Action                         Deep Silver          0.01   \n",
       "16634        Racing                     Milestone S.r.l          0.01   \n",
       "16656        Action                            Nintendo          0.01   \n",
       "16664        Action               Introversion Software          0.01   \n",
       "16696        Action        Konami Digital Entertainment          0.01   \n",
       "\n",
       "       Critic_Score  \n",
       "16             97.0  \n",
       "23             97.0  \n",
       "42             97.0  \n",
       "60             73.0  \n",
       "69             71.0  \n",
       "77             82.0  \n",
       "92             83.0  \n",
       "94             85.0  \n",
       "105            87.0  \n",
       "110            88.0  \n",
       "126            86.0  \n",
       "143            82.0  \n",
       "149            95.0  \n",
       "154            76.0  \n",
       "165            97.0  \n",
       "171            93.0  \n",
       "179            81.0  \n",
       "231            86.0  \n",
       "235            86.0  \n",
       "242            84.0  \n",
       "245            77.0  \n",
       "247            81.0  \n",
       "260            93.0  \n",
       "270            88.0  \n",
       "271            84.0  \n",
       "289            88.0  \n",
       "295            80.0  \n",
       "298            85.0  \n",
       "303            92.0  \n",
       "304            70.0  \n",
       "...             ...  \n",
       "16145          77.0  \n",
       "16148          73.0  \n",
       "16170          65.0  \n",
       "16190          80.0  \n",
       "16203          56.0  \n",
       "16263          58.0  \n",
       "16267          75.0  \n",
       "16276          66.0  \n",
       "16283          65.0  \n",
       "16317          56.0  \n",
       "16325          66.0  \n",
       "16340          71.0  \n",
       "16396          53.0  \n",
       "16416          67.0  \n",
       "16424          70.0  \n",
       "16427          72.0  \n",
       "16457          71.0  \n",
       "16467          79.0  \n",
       "16490          42.0  \n",
       "16503          70.0  \n",
       "16504          69.0  \n",
       "16513          78.0  \n",
       "16514          82.0  \n",
       "16530          61.0  \n",
       "16534          51.0  \n",
       "16601          65.0  \n",
       "16634          63.0  \n",
       "16656          81.0  \n",
       "16664          74.0  \n",
       "16696          80.0  \n",
       "\n",
       "[991 rows x 7 columns]"
      ]
     },
     "execution_count": 265,
     "metadata": {},
     "output_type": "execute_result"
    }
   ],
   "source": [
    "dados_2013 =dados_filtrado[dados_filtrado.Year_of_Release>=2013]\n",
    "dados_2013\n"
   ]
  },
  {
   "cell_type": "markdown",
   "metadata": {},
   "source": [
    "Logo em seguida, separamos o dataset por gênero, para ver como varia o número de vendas do jogo de acordo com essa variável:"
   ]
  },
  {
   "cell_type": "code",
   "execution_count": 340,
   "metadata": {},
   "outputs": [],
   "source": [
    "#Sports\n",
    "\n",
    "esportes = dados_2013[dados_2013.Genre== 'Sports']\n"
   ]
  },
  {
   "cell_type": "code",
   "execution_count": 341,
   "metadata": {},
   "outputs": [],
   "source": [
    "#rpg\n",
    "\n",
    "rpg = dados_2013[dados_2013.Genre == 'Role-Playing']\n"
   ]
  },
  {
   "cell_type": "code",
   "execution_count": 342,
   "metadata": {},
   "outputs": [],
   "source": [
    "#música\n",
    "music = dados_2013[dados_2013.Genre == 'Misc']\n"
   ]
  },
  {
   "cell_type": "code",
   "execution_count": 343,
   "metadata": {},
   "outputs": [],
   "source": [
    "corrida = dados_2013[dados_2013.Genre=='Racing']\n"
   ]
  },
  {
   "cell_type": "code",
   "execution_count": 344,
   "metadata": {},
   "outputs": [],
   "source": [
    "plataforma = dados_2013[dados_2013.Genre == 'Platform']\n"
   ]
  },
  {
   "cell_type": "code",
   "execution_count": 351,
   "metadata": {},
   "outputs": [],
   "source": [
    "estrategia = dados_2013[dados_2013.Genre == 'Strategy']\n"
   ]
  },
  {
   "cell_type": "code",
   "execution_count": 271,
   "metadata": {},
   "outputs": [
    {
     "data": {
      "text/html": [
       "<div>\n",
       "<style scoped>\n",
       "    .dataframe tbody tr th:only-of-type {\n",
       "        vertical-align: middle;\n",
       "    }\n",
       "\n",
       "    .dataframe tbody tr th {\n",
       "        vertical-align: top;\n",
       "    }\n",
       "\n",
       "    .dataframe thead th {\n",
       "        text-align: right;\n",
       "    }\n",
       "</style>\n",
       "<table border=\"1\" class=\"dataframe\">\n",
       "  <thead>\n",
       "    <tr style=\"text-align: right;\">\n",
       "      <th></th>\n",
       "      <th>Name</th>\n",
       "      <th>Platform</th>\n",
       "      <th>Year_of_Release</th>\n",
       "      <th>Genre</th>\n",
       "      <th>Publisher</th>\n",
       "      <th>Global_Sales</th>\n",
       "      <th>Critic_Score</th>\n",
       "    </tr>\n",
       "  </thead>\n",
       "  <tbody>\n",
       "    <tr>\n",
       "      <th>1691</th>\n",
       "      <td>Captain Toad: Treasure Tracker</td>\n",
       "      <td>WiiU</td>\n",
       "      <td>2014.0</td>\n",
       "      <td>Puzzle</td>\n",
       "      <td>Nintendo</td>\n",
       "      <td>1.19</td>\n",
       "      <td>81.0</td>\n",
       "    </tr>\n",
       "    <tr>\n",
       "      <th>2714</th>\n",
       "      <td>Professor Layton and the Azran Legacy</td>\n",
       "      <td>3DS</td>\n",
       "      <td>2013.0</td>\n",
       "      <td>Puzzle</td>\n",
       "      <td>Nintendo</td>\n",
       "      <td>0.75</td>\n",
       "      <td>81.0</td>\n",
       "    </tr>\n",
       "    <tr>\n",
       "      <th>10568</th>\n",
       "      <td>Scribblenauts Unmasked: A DC Comics Adventure</td>\n",
       "      <td>WiiU</td>\n",
       "      <td>2013.0</td>\n",
       "      <td>Puzzle</td>\n",
       "      <td>Warner Bros. Interactive Entertainment</td>\n",
       "      <td>0.10</td>\n",
       "      <td>71.0</td>\n",
       "    </tr>\n",
       "    <tr>\n",
       "      <th>10592</th>\n",
       "      <td>Scribblenauts Unmasked: A DC Comics Adventure</td>\n",
       "      <td>3DS</td>\n",
       "      <td>2013.0</td>\n",
       "      <td>Puzzle</td>\n",
       "      <td>Warner Bros. Interactive Entertainment</td>\n",
       "      <td>0.10</td>\n",
       "      <td>68.0</td>\n",
       "    </tr>\n",
       "    <tr>\n",
       "      <th>12334</th>\n",
       "      <td>Mario vs. Donkey Kong: Tipping Stars</td>\n",
       "      <td>3DS</td>\n",
       "      <td>2015.0</td>\n",
       "      <td>Puzzle</td>\n",
       "      <td>Nintendo</td>\n",
       "      <td>0.06</td>\n",
       "      <td>70.0</td>\n",
       "    </tr>\n",
       "    <tr>\n",
       "      <th>14710</th>\n",
       "      <td>The Talos Principle</td>\n",
       "      <td>PS4</td>\n",
       "      <td>2015.0</td>\n",
       "      <td>Puzzle</td>\n",
       "      <td>Devolver Digital</td>\n",
       "      <td>0.03</td>\n",
       "      <td>88.0</td>\n",
       "    </tr>\n",
       "    <tr>\n",
       "      <th>16424</th>\n",
       "      <td>Mario vs. Donkey Kong: Tipping Stars</td>\n",
       "      <td>WiiU</td>\n",
       "      <td>2015.0</td>\n",
       "      <td>Puzzle</td>\n",
       "      <td>Nintendo</td>\n",
       "      <td>0.01</td>\n",
       "      <td>70.0</td>\n",
       "    </tr>\n",
       "  </tbody>\n",
       "</table>\n",
       "</div>"
      ],
      "text/plain": [
       "                                                Name Platform  \\\n",
       "1691                  Captain Toad: Treasure Tracker     WiiU   \n",
       "2714           Professor Layton and the Azran Legacy      3DS   \n",
       "10568  Scribblenauts Unmasked: A DC Comics Adventure     WiiU   \n",
       "10592  Scribblenauts Unmasked: A DC Comics Adventure      3DS   \n",
       "12334           Mario vs. Donkey Kong: Tipping Stars      3DS   \n",
       "14710                            The Talos Principle      PS4   \n",
       "16424           Mario vs. Donkey Kong: Tipping Stars     WiiU   \n",
       "\n",
       "       Year_of_Release   Genre                               Publisher  \\\n",
       "1691            2014.0  Puzzle                                Nintendo   \n",
       "2714            2013.0  Puzzle                                Nintendo   \n",
       "10568           2013.0  Puzzle  Warner Bros. Interactive Entertainment   \n",
       "10592           2013.0  Puzzle  Warner Bros. Interactive Entertainment   \n",
       "12334           2015.0  Puzzle                                Nintendo   \n",
       "14710           2015.0  Puzzle                        Devolver Digital   \n",
       "16424           2015.0  Puzzle                                Nintendo   \n",
       "\n",
       "       Global_Sales  Critic_Score  \n",
       "1691           1.19          81.0  \n",
       "2714           0.75          81.0  \n",
       "10568          0.10          71.0  \n",
       "10592          0.10          68.0  \n",
       "12334          0.06          70.0  \n",
       "14710          0.03          88.0  \n",
       "16424          0.01          70.0  "
      ]
     },
     "execution_count": 271,
     "metadata": {},
     "output_type": "execute_result"
    }
   ],
   "source": [
    "quebra_cabeca = dados_2013[dados_2013.Genre == 'Puzzle']\n",
    "quebra_cabeca"
   ]
  },
  {
   "cell_type": "code",
   "execution_count": 345,
   "metadata": {},
   "outputs": [],
   "source": [
    "tiro = dados_2013[dados_2013.Genre== 'Shooter']\n"
   ]
  },
  {
   "cell_type": "code",
   "execution_count": 346,
   "metadata": {},
   "outputs": [],
   "source": [
    "simulacao = dados_2013[dados_2013.Genre == 'Simulation']\n"
   ]
  },
  {
   "cell_type": "code",
   "execution_count": 347,
   "metadata": {},
   "outputs": [],
   "source": [
    "acao = dados_2013[dados_2013.Genre == 'Action']\n"
   ]
  },
  {
   "cell_type": "code",
   "execution_count": 348,
   "metadata": {},
   "outputs": [],
   "source": [
    "luta = dados_2013[dados_2013.Genre =='Fighting']\n"
   ]
  },
  {
   "cell_type": "code",
   "execution_count": 349,
   "metadata": {
    "scrolled": false
   },
   "outputs": [],
   "source": [
    "aventura = dados_2013[dados_2013.Genre ==  'Adventure']\n"
   ]
  },
  {
   "cell_type": "markdown",
   "metadata": {},
   "source": [
    "## Avaliação de vendas ##\n",
    "Para \"avaliar\" cada gênero de maneira mais específica, utilizamos a ferramenta \"describe()\", que nos mostra os percentis de cada dataset, seu valor máximo visto, sua média, dentre outros. Além disso, utilizamos um bloxplot evidenciar o \"comportamento\" das vendas e calculamos o total de unidades vendidas."
   ]
  },
  {
   "cell_type": "code",
   "execution_count": 277,
   "metadata": {
    "scrolled": true
   },
   "outputs": [
    {
     "data": {
      "text/plain": [
       "count    47.000000\n",
       "mean      0.214681\n",
       "std       0.395045\n",
       "min       0.010000\n",
       "25%       0.030000\n",
       "50%       0.070000\n",
       "75%       0.135000\n",
       "max       1.660000\n",
       "Name: Global_Sales, dtype: float64"
      ]
     },
     "execution_count": 277,
     "metadata": {},
     "output_type": "execute_result"
    }
   ],
   "source": [
    "\n",
    "aventura['Global_Sales'].describe()\n"
   ]
  },
  {
   "cell_type": "code",
   "execution_count": 278,
   "metadata": {},
   "outputs": [
    {
     "data": {
      "text/plain": [
       "10.089999999999995"
      ]
     },
     "execution_count": 278,
     "metadata": {},
     "output_type": "execute_result"
    }
   ],
   "source": [
    "vendas_aventura = sum(aventura['Global_Sales'])\n",
    "vendas_aventura"
   ]
  },
  {
   "cell_type": "code",
   "execution_count": 279,
   "metadata": {},
   "outputs": [
    {
     "data": {
      "text/plain": [
       "{'boxes': [<matplotlib.lines.Line2D at 0x1a8a81d20f0>],\n",
       " 'caps': [<matplotlib.lines.Line2D at 0x1a8a81d2b00>,\n",
       "  <matplotlib.lines.Line2D at 0x1a8a81d2f28>],\n",
       " 'fliers': [<matplotlib.lines.Line2D at 0x1a8a81d97b8>],\n",
       " 'means': [],\n",
       " 'medians': [<matplotlib.lines.Line2D at 0x1a8a81d9390>],\n",
       " 'whiskers': [<matplotlib.lines.Line2D at 0x1a8a81d2240>,\n",
       "  <matplotlib.lines.Line2D at 0x1a8a81d26d8>]}"
      ]
     },
     "execution_count": 279,
     "metadata": {},
     "output_type": "execute_result"
    },
    {
     "data": {
      "image/png": "[encoded data removed]",
      "text/plain": [
       "<matplotlib.figure.Figure at 0x1a8a8056d68>"
      ]
     },
     "metadata": {},
     "output_type": "display_data"
    }
   ],
   "source": [
    "plt.boxplot(aventura[\"Global_Sales\"])"
   ]
  },
  {
   "cell_type": "code",
   "execution_count": 280,
   "metadata": {},
   "outputs": [
    {
     "data": {
      "text/plain": [
       "count    42.000000\n",
       "mean      0.423810\n",
       "std       0.549097\n",
       "min       0.020000\n",
       "25%       0.082500\n",
       "50%       0.190000\n",
       "75%       0.490000\n",
       "max       2.780000\n",
       "Name: Global_Sales, dtype: float64"
      ]
     },
     "execution_count": 280,
     "metadata": {},
     "output_type": "execute_result"
    }
   ],
   "source": [
    "luta['Global_Sales'].describe()"
   ]
  },
  {
   "cell_type": "code",
   "execution_count": 281,
   "metadata": {},
   "outputs": [
    {
     "data": {
      "text/plain": [
       "17.799999999999997"
      ]
     },
     "execution_count": 281,
     "metadata": {},
     "output_type": "execute_result"
    }
   ],
   "source": [
    "vendas_luta = sum(luta['Global_Sales'])\n",
    "vendas_luta"
   ]
  },
  {
   "cell_type": "code",
   "execution_count": 282,
   "metadata": {},
   "outputs": [
    {
     "data": {
      "text/plain": [
       "{'boxes': [<matplotlib.lines.Line2D at 0x1a8a822bc18>],\n",
       " 'caps': [<matplotlib.lines.Line2D at 0x1a8a8235668>,\n",
       "  <matplotlib.lines.Line2D at 0x1a8a8235a90>],\n",
       " 'fliers': [<matplotlib.lines.Line2D at 0x1a8a823e320>],\n",
       " 'means': [],\n",
       " 'medians': [<matplotlib.lines.Line2D at 0x1a8a8235eb8>],\n",
       " 'whiskers': [<matplotlib.lines.Line2D at 0x1a8a822bd68>,\n",
       "  <matplotlib.lines.Line2D at 0x1a8a8235240>]}"
      ]
     },
     "execution_count": 282,
     "metadata": {},
     "output_type": "execute_result"
    },
    {
     "data": {
      "image/png": "[encoded data removed]",
      "text/plain": [
       "<matplotlib.figure.Figure at 0x1a8a819ceb8>"
      ]
     },
     "metadata": {},
     "output_type": "display_data"
    }
   ],
   "source": [
    "plt.boxplot(luta[\"Global_Sales\"])"
   ]
  },
  {
   "cell_type": "code",
   "execution_count": 283,
   "metadata": {},
   "outputs": [
    {
     "data": {
      "text/plain": [
       "count    313.000000\n",
       "mean       0.741565\n",
       "std        1.852280\n",
       "min        0.010000\n",
       "25%        0.080000\n",
       "50%        0.210000\n",
       "75%        0.670000\n",
       "max       21.040000\n",
       "Name: Global_Sales, dtype: float64"
      ]
     },
     "execution_count": 283,
     "metadata": {},
     "output_type": "execute_result"
    }
   ],
   "source": [
    "acao['Global_Sales'].describe()"
   ]
  },
  {
   "cell_type": "code",
   "execution_count": 284,
   "metadata": {},
   "outputs": [
    {
     "data": {
      "text/plain": [
       "232.10999999999987"
      ]
     },
     "execution_count": 284,
     "metadata": {},
     "output_type": "execute_result"
    }
   ],
   "source": [
    "vendas_acao = sum(acao['Global_Sales'])\n",
    "vendas_acao"
   ]
  },
  {
   "cell_type": "code",
   "execution_count": 285,
   "metadata": {},
   "outputs": [
    {
     "data": {
      "text/plain": [
       "{'boxes': [<matplotlib.lines.Line2D at 0x1a8a8297358>],\n",
       " 'caps': [<matplotlib.lines.Line2D at 0x1a8a8297d68>,\n",
       "  <matplotlib.lines.Line2D at 0x1a8a829f1d0>],\n",
       " 'fliers': [<matplotlib.lines.Line2D at 0x1a8a829fa20>],\n",
       " 'means': [],\n",
       " 'medians': [<matplotlib.lines.Line2D at 0x1a8a829f5f8>],\n",
       " 'whiskers': [<matplotlib.lines.Line2D at 0x1a8a82974a8>,\n",
       "  <matplotlib.lines.Line2D at 0x1a8a8297940>]}"
      ]
     },
     "execution_count": 285,
     "metadata": {},
     "output_type": "execute_result"
    },
    {
     "data": {
      "image/png": "[encoded data removed]",
      "text/plain": [
       "<matplotlib.figure.Figure at 0x1a8a82064e0>"
      ]
     },
     "metadata": {},
     "output_type": "display_data"
    }
   ],
   "source": [
    "plt.boxplot(acao[\"Global_Sales\"])"
   ]
  },
  {
   "cell_type": "code",
   "execution_count": 286,
   "metadata": {},
   "outputs": [
    {
     "data": {
      "text/plain": [
       "count    28.000000\n",
       "mean      0.436429\n",
       "std       0.790242\n",
       "min       0.010000\n",
       "25%       0.075000\n",
       "50%       0.140000\n",
       "75%       0.387500\n",
       "max       3.050000\n",
       "Name: Global_Sales, dtype: float64"
      ]
     },
     "execution_count": 286,
     "metadata": {},
     "output_type": "execute_result"
    }
   ],
   "source": [
    "simulacao['Global_Sales'].describe()"
   ]
  },
  {
   "cell_type": "code",
   "execution_count": 287,
   "metadata": {},
   "outputs": [
    {
     "data": {
      "text/plain": [
       "12.219999999999999"
      ]
     },
     "execution_count": 287,
     "metadata": {},
     "output_type": "execute_result"
    }
   ],
   "source": [
    "vendas_simulacao = sum(simulacao['Global_Sales'])\n",
    "vendas_simulacao"
   ]
  },
  {
   "cell_type": "code",
   "execution_count": 288,
   "metadata": {},
   "outputs": [
    {
     "data": {
      "text/plain": [
       "{'boxes': [<matplotlib.lines.Line2D at 0x1a8a82f5550>],\n",
       " 'caps': [<matplotlib.lines.Line2D at 0x1a8a82f5f60>,\n",
       "  <matplotlib.lines.Line2D at 0x1a8a82fc3c8>],\n",
       " 'fliers': [<matplotlib.lines.Line2D at 0x1a8a82fcc18>],\n",
       " 'means': [],\n",
       " 'medians': [<matplotlib.lines.Line2D at 0x1a8a82fc7f0>],\n",
       " 'whiskers': [<matplotlib.lines.Line2D at 0x1a8a82f56a0>,\n",
       "  <matplotlib.lines.Line2D at 0x1a8a82f5b38>]}"
      ]
     },
     "execution_count": 288,
     "metadata": {},
     "output_type": "execute_result"
    },
    {
     "data": {
      "image/png": "[encoded data removed]",
      "text/plain": [
       "<matplotlib.figure.Figure at 0x1a8a82ae6a0>"
      ]
     },
     "metadata": {},
     "output_type": "display_data"
    }
   ],
   "source": [
    "plt.boxplot(simulacao[\"Global_Sales\"])"
   ]
  },
  {
   "cell_type": "code",
   "execution_count": 289,
   "metadata": {},
   "outputs": [
    {
     "data": {
      "text/plain": [
       "count    134.000000\n",
       "mean       1.276567\n",
       "std        1.783085\n",
       "min        0.010000\n",
       "25%        0.192500\n",
       "50%        0.570000\n",
       "75%        1.615000\n",
       "max       10.250000\n",
       "Name: Global_Sales, dtype: float64"
      ]
     },
     "execution_count": 289,
     "metadata": {},
     "output_type": "execute_result"
    }
   ],
   "source": [
    "tiro['Global_Sales'].describe()"
   ]
  },
  {
   "cell_type": "code",
   "execution_count": 290,
   "metadata": {},
   "outputs": [
    {
     "data": {
      "text/plain": [
       "171.0600000000001"
      ]
     },
     "execution_count": 290,
     "metadata": {},
     "output_type": "execute_result"
    }
   ],
   "source": [
    "vendas_tiro= sum(tiro['Global_Sales'])\n",
    "vendas_tiro"
   ]
  },
  {
   "cell_type": "code",
   "execution_count": 291,
   "metadata": {},
   "outputs": [
    {
     "data": {
      "text/plain": [
       "{'boxes': [<matplotlib.lines.Line2D at 0x1a8a835d048>],\n",
       " 'caps': [<matplotlib.lines.Line2D at 0x1a8a835da58>,\n",
       "  <matplotlib.lines.Line2D at 0x1a8a835de80>],\n",
       " 'fliers': [<matplotlib.lines.Line2D at 0x1a8a8366710>],\n",
       " 'means': [],\n",
       " 'medians': [<matplotlib.lines.Line2D at 0x1a8a83662e8>],\n",
       " 'whiskers': [<matplotlib.lines.Line2D at 0x1a8a835d198>,\n",
       "  <matplotlib.lines.Line2D at 0x1a8a835d630>]}"
      ]
     },
     "execution_count": 291,
     "metadata": {},
     "output_type": "execute_result"
    },
    {
     "data": {
      "image/png": "[encoded data removed]",
      "text/plain": [
       "<matplotlib.figure.Figure at 0x1a8a8312c18>"
      ]
     },
     "metadata": {},
     "output_type": "display_data"
    }
   ],
   "source": [
    "plt.boxplot(tiro[\"Global_Sales\"])"
   ]
  },
  {
   "cell_type": "code",
   "execution_count": 292,
   "metadata": {},
   "outputs": [
    {
     "data": {
      "text/plain": [
       "count    7.000000\n",
       "mean     0.320000\n",
       "std      0.463033\n",
       "min      0.010000\n",
       "25%      0.045000\n",
       "50%      0.100000\n",
       "75%      0.425000\n",
       "max      1.190000\n",
       "Name: Global_Sales, dtype: float64"
      ]
     },
     "execution_count": 292,
     "metadata": {},
     "output_type": "execute_result"
    }
   ],
   "source": [
    "quebra_cabeca['Global_Sales'].describe()"
   ]
  },
  {
   "cell_type": "code",
   "execution_count": 293,
   "metadata": {},
   "outputs": [
    {
     "data": {
      "text/plain": [
       "2.2399999999999998"
      ]
     },
     "execution_count": 293,
     "metadata": {},
     "output_type": "execute_result"
    }
   ],
   "source": [
    "vendas_quebra_cabeca= sum(quebra_cabeca['Global_Sales'])\n",
    "vendas_quebra_cabeca"
   ]
  },
  {
   "cell_type": "code",
   "execution_count": 294,
   "metadata": {},
   "outputs": [
    {
     "data": {
      "text/plain": [
       "{'boxes': [<matplotlib.lines.Line2D at 0x1a8a83bc4a8>],\n",
       " 'caps': [<matplotlib.lines.Line2D at 0x1a8a83bceb8>,\n",
       "  <matplotlib.lines.Line2D at 0x1a8a83c4320>],\n",
       " 'fliers': [<matplotlib.lines.Line2D at 0x1a8a83c4b70>],\n",
       " 'means': [],\n",
       " 'medians': [<matplotlib.lines.Line2D at 0x1a8a83c4748>],\n",
       " 'whiskers': [<matplotlib.lines.Line2D at 0x1a8a83bc5f8>,\n",
       "  <matplotlib.lines.Line2D at 0x1a8a83bca90>]}"
      ]
     },
     "execution_count": 294,
     "metadata": {},
     "output_type": "execute_result"
    },
    {
     "data": {
      "image/png": "[encoded data removed]",
      "text/plain": [
       "<matplotlib.figure.Figure at 0x1a8a83759e8>"
      ]
     },
     "metadata": {},
     "output_type": "display_data"
    }
   ],
   "source": [
    "plt.boxplot(quebra_cabeca[\"Global_Sales\"])"
   ]
  },
  {
   "cell_type": "code",
   "execution_count": 295,
   "metadata": {},
   "outputs": [
    {
     "data": {
      "text/plain": [
       "count    51.000000\n",
       "mean      0.631569\n",
       "std       0.868270\n",
       "min       0.010000\n",
       "25%       0.085000\n",
       "50%       0.260000\n",
       "75%       0.835000\n",
       "max       4.320000\n",
       "Name: Global_Sales, dtype: float64"
      ]
     },
     "execution_count": 295,
     "metadata": {},
     "output_type": "execute_result"
    }
   ],
   "source": [
    "plataforma['Global_Sales'].describe()"
   ]
  },
  {
   "cell_type": "code",
   "execution_count": 296,
   "metadata": {},
   "outputs": [
    {
     "data": {
      "text/plain": [
       "32.209999999999994"
      ]
     },
     "execution_count": 296,
     "metadata": {},
     "output_type": "execute_result"
    }
   ],
   "source": [
    "vendas_plataforma= sum(plataforma['Global_Sales'])\n",
    "vendas_plataforma"
   ]
  },
  {
   "cell_type": "code",
   "execution_count": 297,
   "metadata": {},
   "outputs": [
    {
     "data": {
      "text/plain": [
       "{'boxes': [<matplotlib.lines.Line2D at 0x1a8a84220b8>],\n",
       " 'caps': [<matplotlib.lines.Line2D at 0x1a8a8422ac8>,\n",
       "  <matplotlib.lines.Line2D at 0x1a8a8422ef0>],\n",
       " 'fliers': [<matplotlib.lines.Line2D at 0x1a8a842a780>],\n",
       " 'means': [],\n",
       " 'medians': [<matplotlib.lines.Line2D at 0x1a8a842a358>],\n",
       " 'whiskers': [<matplotlib.lines.Line2D at 0x1a8a8422208>,\n",
       "  <matplotlib.lines.Line2D at 0x1a8a84226a0>]}"
      ]
     },
     "execution_count": 297,
     "metadata": {},
     "output_type": "execute_result"
    },
    {
     "data": {
      "image/png": "[encoded data removed]",
      "text/plain": [
       "<matplotlib.figure.Figure at 0x1a8a8330588>"
      ]
     },
     "metadata": {},
     "output_type": "display_data"
    }
   ],
   "source": [
    "plt.boxplot(plataforma[\"Global_Sales\"])"
   ]
  },
  {
   "cell_type": "code",
   "execution_count": 298,
   "metadata": {},
   "outputs": [
    {
     "data": {
      "text/plain": [
       "count    61.000000\n",
       "mean      0.561311\n",
       "std       1.082345\n",
       "min       0.010000\n",
       "25%       0.050000\n",
       "50%       0.170000\n",
       "75%       0.540000\n",
       "max       7.090000\n",
       "Name: Global_Sales, dtype: float64"
      ]
     },
     "execution_count": 298,
     "metadata": {},
     "output_type": "execute_result"
    }
   ],
   "source": [
    "corrida['Global_Sales'].describe()"
   ]
  },
  {
   "cell_type": "code",
   "execution_count": 299,
   "metadata": {},
   "outputs": [
    {
     "data": {
      "text/plain": [
       "34.240000000000016"
      ]
     },
     "execution_count": 299,
     "metadata": {},
     "output_type": "execute_result"
    }
   ],
   "source": [
    "vendas_corrida= sum(corrida['Global_Sales'])\n",
    "vendas_corrida"
   ]
  },
  {
   "cell_type": "code",
   "execution_count": 300,
   "metadata": {},
   "outputs": [
    {
     "data": {
      "text/plain": [
       "{'boxes': [<matplotlib.lines.Line2D at 0x1a8a8476f98>],\n",
       " 'caps': [<matplotlib.lines.Line2D at 0x1a8a84819e8>,\n",
       "  <matplotlib.lines.Line2D at 0x1a8a8481e10>],\n",
       " 'fliers': [<matplotlib.lines.Line2D at 0x1a8a848c6a0>],\n",
       " 'means': [],\n",
       " 'medians': [<matplotlib.lines.Line2D at 0x1a8a848c278>],\n",
       " 'whiskers': [<matplotlib.lines.Line2D at 0x1a8a8481128>,\n",
       "  <matplotlib.lines.Line2D at 0x1a8a84815c0>]}"
      ]
     },
     "execution_count": 300,
     "metadata": {},
     "output_type": "execute_result"
    },
    {
     "data": {
      "image/png": "[encoded data removed]",
      "text/plain": [
       "<matplotlib.figure.Figure at 0x1a8a8438e10>"
      ]
     },
     "metadata": {},
     "output_type": "display_data"
    }
   ],
   "source": [
    "plt.boxplot(corrida[\"Global_Sales\"])"
   ]
  },
  {
   "cell_type": "code",
   "execution_count": 301,
   "metadata": {},
   "outputs": [
    {
     "data": {
      "text/plain": [
       "count    43.000000\n",
       "mean      0.451163\n",
       "std       0.421303\n",
       "min       0.010000\n",
       "25%       0.190000\n",
       "50%       0.330000\n",
       "75%       0.510000\n",
       "max       1.920000\n",
       "Name: Global_Sales, dtype: float64"
      ]
     },
     "execution_count": 301,
     "metadata": {},
     "output_type": "execute_result"
    }
   ],
   "source": [
    "music['Global_Sales'].describe()"
   ]
  },
  {
   "cell_type": "code",
   "execution_count": 302,
   "metadata": {},
   "outputs": [
    {
     "data": {
      "text/plain": [
       "19.400000000000013"
      ]
     },
     "execution_count": 302,
     "metadata": {},
     "output_type": "execute_result"
    }
   ],
   "source": [
    "vendas_musica= sum(music['Global_Sales'])\n",
    "vendas_musica"
   ]
  },
  {
   "cell_type": "code",
   "execution_count": 303,
   "metadata": {},
   "outputs": [
    {
     "data": {
      "text/plain": [
       "{'boxes': [<matplotlib.lines.Line2D at 0x1a8a84dfd68>],\n",
       " 'caps': [<matplotlib.lines.Line2D at 0x1a8a84ea7b8>,\n",
       "  <matplotlib.lines.Line2D at 0x1a8a84eabe0>],\n",
       " 'fliers': [<matplotlib.lines.Line2D at 0x1a8a84f1470>],\n",
       " 'means': [],\n",
       " 'medians': [<matplotlib.lines.Line2D at 0x1a8a84f1048>],\n",
       " 'whiskers': [<matplotlib.lines.Line2D at 0x1a8a84dfeb8>,\n",
       "  <matplotlib.lines.Line2D at 0x1a8a84ea390>]}"
      ]
     },
     "execution_count": 303,
     "metadata": {},
     "output_type": "execute_result"
    },
    {
     "data": {
      "image/png": "[encoded data removed]",
      "text/plain": [
       "<matplotlib.figure.Figure at 0x1a8a84655c0>"
      ]
     },
     "metadata": {},
     "output_type": "display_data"
    }
   ],
   "source": [
    "plt.boxplot(music[\"Global_Sales\"])"
   ]
  },
  {
   "cell_type": "code",
   "execution_count": 304,
   "metadata": {},
   "outputs": [
    {
     "data": {
      "text/plain": [
       "count    127.000000\n",
       "mean       0.481496\n",
       "std        0.917314\n",
       "min        0.010000\n",
       "25%        0.070000\n",
       "50%        0.190000\n",
       "75%        0.460000\n",
       "max        7.160000\n",
       "Name: Global_Sales, dtype: float64"
      ]
     },
     "execution_count": 304,
     "metadata": {},
     "output_type": "execute_result"
    }
   ],
   "source": [
    "rpg['Global_Sales'].describe()"
   ]
  },
  {
   "cell_type": "code",
   "execution_count": 305,
   "metadata": {},
   "outputs": [
    {
     "data": {
      "text/plain": [
       "61.15000000000003"
      ]
     },
     "execution_count": 305,
     "metadata": {},
     "output_type": "execute_result"
    }
   ],
   "source": [
    "vendas_rpg= sum(rpg['Global_Sales'])\n",
    "vendas_rpg"
   ]
  },
  {
   "cell_type": "code",
   "execution_count": 306,
   "metadata": {},
   "outputs": [
    {
     "data": {
      "text/plain": [
       "{'boxes': [<matplotlib.lines.Line2D at 0x1a8a8553278>],\n",
       " 'caps': [<matplotlib.lines.Line2D at 0x1a8a8553c88>,\n",
       "  <matplotlib.lines.Line2D at 0x1a8a855b0f0>],\n",
       " 'fliers': [<matplotlib.lines.Line2D at 0x1a8a855b940>],\n",
       " 'means': [],\n",
       " 'medians': [<matplotlib.lines.Line2D at 0x1a8a855b518>],\n",
       " 'whiskers': [<matplotlib.lines.Line2D at 0x1a8a85533c8>,\n",
       "  <matplotlib.lines.Line2D at 0x1a8a8553860>]}"
      ]
     },
     "execution_count": 306,
     "metadata": {},
     "output_type": "execute_result"
    },
    {
     "data": {
      "image/png": "[encoded data removed]",
      "text/plain": [
       "<matplotlib.figure.Figure at 0x1a8a8506eb8>"
      ]
     },
     "metadata": {},
     "output_type": "display_data"
    }
   ],
   "source": [
    "plt.boxplot(rpg[\"Global_Sales\"])"
   ]
  },
  {
   "cell_type": "code",
   "execution_count": 307,
   "metadata": {},
   "outputs": [
    {
     "data": {
      "text/plain": [
       "count    112.000000\n",
       "mean       1.027946\n",
       "std        1.497596\n",
       "min        0.010000\n",
       "25%        0.135000\n",
       "50%        0.510000\n",
       "75%        1.142500\n",
       "max        8.570000\n",
       "Name: Global_Sales, dtype: float64"
      ]
     },
     "execution_count": 307,
     "metadata": {},
     "output_type": "execute_result"
    }
   ],
   "source": [
    "esportes['Global_Sales'].describe()"
   ]
  },
  {
   "cell_type": "code",
   "execution_count": 308,
   "metadata": {},
   "outputs": [
    {
     "data": {
      "text/plain": [
       "115.13000000000004"
      ]
     },
     "execution_count": 308,
     "metadata": {},
     "output_type": "execute_result"
    }
   ],
   "source": [
    "vendas_esportes=sum(esportes['Global_Sales'])\n",
    "vendas_esportes"
   ]
  },
  {
   "cell_type": "code",
   "execution_count": 309,
   "metadata": {
    "scrolled": false
   },
   "outputs": [
    {
     "data": {
      "text/plain": [
       "{'boxes': [<matplotlib.lines.Line2D at 0x1a8a85b9080>],\n",
       " 'caps': [<matplotlib.lines.Line2D at 0x1a8a85b9a90>,\n",
       "  <matplotlib.lines.Line2D at 0x1a8a85b9eb8>],\n",
       " 'fliers': [<matplotlib.lines.Line2D at 0x1a8a85c1748>],\n",
       " 'means': [],\n",
       " 'medians': [<matplotlib.lines.Line2D at 0x1a8a85c1320>],\n",
       " 'whiskers': [<matplotlib.lines.Line2D at 0x1a8a85b91d0>,\n",
       "  <matplotlib.lines.Line2D at 0x1a8a85b9668>]}"
      ]
     },
     "execution_count": 309,
     "metadata": {},
     "output_type": "execute_result"
    },
    {
     "data": {
      "image/png": "[encoded data removed]",
      "text/plain": [
       "<matplotlib.figure.Figure at 0x1a8a84bd3c8>"
      ]
     },
     "metadata": {},
     "output_type": "display_data"
    }
   ],
   "source": [
    "plt.boxplot(esportes[\"Global_Sales\"])"
   ]
  },
  {
   "cell_type": "code",
   "execution_count": 352,
   "metadata": {},
   "outputs": [
    {
     "data": {
      "text/plain": [
       "count    26.000000\n",
       "mean      0.286538\n",
       "std       0.373898\n",
       "min       0.010000\n",
       "25%       0.050000\n",
       "50%       0.210000\n",
       "75%       0.287500\n",
       "max       1.670000\n",
       "Name: Global_Sales, dtype: float64"
      ]
     },
     "execution_count": 352,
     "metadata": {},
     "output_type": "execute_result"
    }
   ],
   "source": [
    "estrategia['Global_Sales'].describe()"
   ]
  },
  {
   "cell_type": "code",
   "execution_count": 353,
   "metadata": {},
   "outputs": [
    {
     "data": {
      "text/plain": [
       "7.45"
      ]
     },
     "execution_count": 353,
     "metadata": {},
     "output_type": "execute_result"
    }
   ],
   "source": [
    "vendas_stra=sum(estrategia['Global_Sales'])\n",
    "vendas_stra"
   ]
  },
  {
   "cell_type": "code",
   "execution_count": 354,
   "metadata": {},
   "outputs": [
    {
     "data": {
      "text/plain": [
       "{'boxes': [<matplotlib.lines.Line2D at 0x1a8a8873208>],\n",
       " 'caps': [<matplotlib.lines.Line2D at 0x1a8a8873c18>,\n",
       "  <matplotlib.lines.Line2D at 0x1a8a8879080>],\n",
       " 'fliers': [<matplotlib.lines.Line2D at 0x1a8a88798d0>],\n",
       " 'means': [],\n",
       " 'medians': [<matplotlib.lines.Line2D at 0x1a8a88794a8>],\n",
       " 'whiskers': [<matplotlib.lines.Line2D at 0x1a8a8873358>,\n",
       "  <matplotlib.lines.Line2D at 0x1a8a88737f0>]}"
      ]
     },
     "execution_count": 354,
     "metadata": {},
     "output_type": "execute_result"
    },
    {
     "data": {
      "image/png": "[encoded data removed]",
      "text/plain": [
       "<matplotlib.figure.Figure at 0x1a8a8702d30>"
      ]
     },
     "metadata": {},
     "output_type": "display_data"
    }
   ],
   "source": [
    "plt.boxplot(estrategia[\"Global_Sales\"])"
   ]
  },
  {
   "cell_type": "markdown",
   "metadata": {},
   "source": [
    "Após realizar esses métodos, foi possível notar que há gêneros mais populares entre o público, feito os jogos de tiro e de ação. Contudo, todos os cenários possuem um comportamento em comum. No caso, é possível visualizar que o mercado sempre é composto por vários jogos de venda baixa e poucos de vendas altas (outliers), quando comparadas com o todo. Dessa forma, esses outliers elevam o valor da média, mas a médiana e os percentis continuam baixos. "
   ]
  },
  {
   "cell_type": "markdown",
   "metadata": {},
   "source": [
    "## Títulos de uma Publisher por faixa de preço\n",
    "\n",
    "\n",
    "De modo a descobrir se os jogos de uma determinada publisher possuem maior predisposição para vendas, decidiu-se contar quantos jogos cada uma possui ao todo e verificar como esse número se altera de acordo com a faixa de vendas analisada. Além disso, foram avaliadas as vendas de cada empresa em um determinado gênero e quanto elas representam de todo o mercado. "
   ]
  },
  {
   "cell_type": "markdown",
   "metadata": {},
   "source": [
    "Verificamos o número de jogos de cada publisher:"
   ]
  },
  {
   "cell_type": "code",
   "execution_count": 320,
   "metadata": {
    "scrolled": true
   },
   "outputs": [
    {
     "data": {
      "text/plain": [
       "Electronic Arts                           96\n",
       "Ubisoft                                   85\n",
       "Namco Bandai Games                        66\n",
       "Warner Bros. Interactive Entertainment    64\n",
       "Activision                                58\n",
       "Take-Two Interactive                      54\n",
       "Nintendo                                  54\n",
       "Nippon Ichi Software                      41\n",
       "Deep Silver                               34\n",
       "Square Enix                               32\n",
       "Sony Computer Entertainment               31\n",
       "Tecmo Koei                                30\n",
       "Capcom                                    29\n",
       "Sega                                      26\n",
       "Konami Digital Entertainment              26\n",
       "Microsoft Game Studios                    19\n",
       "505 Games                                 18\n",
       "Bethesda Softworks                        17\n",
       "Codemasters                               17\n",
       "Focus Home Interactive                    14\n",
       "Nordic Games                              11\n",
       "Sony Computer Entertainment Europe         9\n",
       "PQube                                      9\n",
       "Milestone S.r.l.                           6\n",
       "Aksys Games                                6\n",
       "Kalypso Media                              6\n",
       "Disney Interactive Studios                 5\n",
       "Atlus                                      5\n",
       "Rising Star Games                          5\n",
       "Bigben Interactive                         4\n",
       "                                          ..\n",
       "Gearbox Software                           2\n",
       "Tru Blu Entertainment                      2\n",
       "Revolution Software                        2\n",
       "Sold Out                                   2\n",
       "Introversion Software                      2\n",
       "Tripwire Interactive                       1\n",
       "Devolver Digital                           1\n",
       "Compile Heart                              1\n",
       "GungHo                                     1\n",
       "FuRyu Corporation                          1\n",
       "From Software                              1\n",
       "inXile Entertainment                       1\n",
       "THQ                                        1\n",
       "Headup Games                               1\n",
       "CCP                                        1\n",
       "Agatsuma Entertainment                     1\n",
       "System 3                                   1\n",
       "Alternative Software                       1\n",
       "FuRyu                                      1\n",
       "Activision Blizzard                        1\n",
       "ArtDink                                    1\n",
       "Dusenberry Martin Racing                   1\n",
       "Bohemia Interactive                        1\n",
       "Paradox Development                        1\n",
       "Crytek                                     1\n",
       "NCSoft                                     1\n",
       "Idea Factory                               1\n",
       "Majesco Entertainment                      1\n",
       "Atari                                      1\n",
       "Hello Games                                1\n",
       "Name: Publisher, Length: 86, dtype: int64"
      ]
     },
     "execution_count": 320,
     "metadata": {},
     "output_type": "execute_result"
    }
   ],
   "source": [
    "dados_2013['Publisher'].value_counts()"
   ]
  },
  {
   "cell_type": "markdown",
   "metadata": {},
   "source": [
    "Filtramos o dataframe de modo a conter somente jogos com vendas maiores ou iguais a um milhão e verificamos suas publishers:"
   ]
  },
  {
   "cell_type": "code",
   "execution_count": 327,
   "metadata": {},
   "outputs": [],
   "source": [
    "mais_q_mi = dados_2013[dados_2013.Global_Sales >= 1]\n"
   ]
  },
  {
   "cell_type": "code",
   "execution_count": 328,
   "metadata": {
    "scrolled": false
   },
   "outputs": [
    {
     "data": {
      "text/plain": [
       "Electronic Arts                           37\n",
       "Nintendo                                  24\n",
       "Ubisoft                                   21\n",
       "Take-Two Interactive                      21\n",
       "Activision                                19\n",
       "Warner Bros. Interactive Entertainment    16\n",
       "Microsoft Game Studios                    12\n",
       "Sony Computer Entertainment               11\n",
       "Namco Bandai Games                         7\n",
       "Bethesda Softworks                         6\n",
       "Square Enix                                4\n",
       "Konami Digital Entertainment               3\n",
       "Sony Computer Entertainment Europe         3\n",
       "Deep Silver                                2\n",
       "Disney Interactive Studios                 1\n",
       "Sega                                       1\n",
       "Slightly Mad Studios                       1\n",
       "Hello Games                                1\n",
       "Name: Publisher, dtype: int64"
      ]
     },
     "execution_count": 328,
     "metadata": {},
     "output_type": "execute_result"
    }
   ],
   "source": [
    "mais_q_mi['Publisher'].value_counts()\n"
   ]
  },
  {
   "cell_type": "markdown",
   "metadata": {},
   "source": [
    "Fazemos a mesma coisa, mas com dois e depois com cinco milhões de unidades:"
   ]
  },
  {
   "cell_type": "code",
   "execution_count": 330,
   "metadata": {},
   "outputs": [],
   "source": [
    "mais_2_q_mi = dados_2013[dados_2013.Global_Sales > 2]"
   ]
  },
  {
   "cell_type": "code",
   "execution_count": 331,
   "metadata": {
    "scrolled": true
   },
   "outputs": [
    {
     "data": {
      "text/plain": [
       "Electronic Arts                           23\n",
       "Ubisoft                                   12\n",
       "Activision                                11\n",
       "Nintendo                                  10\n",
       "Take-Two Interactive                       9\n",
       "Sony Computer Entertainment                8\n",
       "Warner Bros. Interactive Entertainment     6\n",
       "Microsoft Game Studios                     4\n",
       "Bethesda Softworks                         2\n",
       "Sony Computer Entertainment Europe         1\n",
       "Namco Bandai Games                         1\n",
       "Konami Digital Entertainment               1\n",
       "Name: Publisher, dtype: int64"
      ]
     },
     "execution_count": 331,
     "metadata": {},
     "output_type": "execute_result"
    }
   ],
   "source": [
    "mais_2_q_mi['Publisher'].value_counts()"
   ]
  },
  {
   "cell_type": "code",
   "execution_count": 334,
   "metadata": {},
   "outputs": [],
   "source": [
    "mais_5_q_mi = dados_2013[dados_2013.Global_Sales >= 5]"
   ]
  },
  {
   "cell_type": "code",
   "execution_count": 335,
   "metadata": {
    "scrolled": true
   },
   "outputs": [
    {
     "data": {
      "text/plain": [
       "Activision                            5\n",
       "Take-Two Interactive                  4\n",
       "Electronic Arts                       4\n",
       "Sony Computer Entertainment           1\n",
       "Sony Computer Entertainment Europe    1\n",
       "Nintendo                              1\n",
       "Bethesda Softworks                    1\n",
       "Name: Publisher, dtype: int64"
      ]
     },
     "execution_count": 335,
     "metadata": {},
     "output_type": "execute_result"
    }
   ],
   "source": [
    "mais_5_q_mi['Publisher'].value_counts()"
   ]
  },
  {
   "cell_type": "markdown",
   "metadata": {},
   "source": [
    "**Vendas de cada publisher**\n",
    "\n",
    "Agora, selecionamos duas empresas (EA e Activision) e verificamos suas vendas no gênero de tiro:"
   ]
  },
  {
   "cell_type": "code",
   "execution_count": 336,
   "metadata": {},
   "outputs": [],
   "source": [
    "dados_ea =dados_2013[dados_2013.Publisher== 'Electronic Arts']\n"
   ]
  },
  {
   "cell_type": "code",
   "execution_count": 312,
   "metadata": {
    "scrolled": true
   },
   "outputs": [
    {
     "data": {
      "text/plain": [
       "count    29.000000\n",
       "mean      1.266207\n",
       "std       1.205503\n",
       "min       0.020000\n",
       "25%       0.480000\n",
       "50%       0.750000\n",
       "75%       2.020000\n",
       "max       4.080000\n",
       "Name: Global_Sales, dtype: float64"
      ]
     },
     "execution_count": 312,
     "metadata": {},
     "output_type": "execute_result"
    }
   ],
   "source": [
    "(dados_ea[dados_ea.Genre == 'Shooter']['Global_Sales']).describe()"
   ]
  },
  {
   "cell_type": "code",
   "execution_count": 313,
   "metadata": {
    "scrolled": false
   },
   "outputs": [
    {
     "data": {
      "text/plain": [
       "36.720000000000006"
      ]
     },
     "execution_count": 313,
     "metadata": {},
     "output_type": "execute_result"
    }
   ],
   "source": [
    "vendas_tiro_ea = sum(dados_ea[dados_ea.Genre == 'Shooter']['Global_Sales'])\n",
    "vendas_tiro_ea"
   ]
  },
  {
   "cell_type": "markdown",
   "metadata": {},
   "source": [
    "Tendo obtido o número de vendas da EA para jogos do gênero tiro, calculamos quanto que essa parcela representa dentro do mercado, chegando a um valor de, aproximadamente 21,46%."
   ]
  },
  {
   "cell_type": "code",
   "execution_count": 337,
   "metadata": {
    "scrolled": true
   },
   "outputs": [
    {
     "data": {
      "text/plain": [
       "21.466152227288664"
      ]
     },
     "execution_count": 337,
     "metadata": {},
     "output_type": "execute_result"
    }
   ],
   "source": [
    "x = 100 * (vendas_tiro_ea/vendas_tiro)\n",
    "x"
   ]
  },
  {
   "cell_type": "markdown",
   "metadata": {},
   "source": [
    "Fazemos o mesmo para a Activision, chegando a um valor de, aproximadamente, 37,44%."
   ]
  },
  {
   "cell_type": "code",
   "execution_count": 314,
   "metadata": {},
   "outputs": [],
   "source": [
    "dados_activision =dados_2013[dados_2013.Publisher== 'Activision']"
   ]
  },
  {
   "cell_type": "code",
   "execution_count": 315,
   "metadata": {},
   "outputs": [
    {
     "data": {
      "text/plain": [
       "count    20.000000\n",
       "mean      3.203000\n",
       "std       3.061919\n",
       "min       0.140000\n",
       "25%       0.605000\n",
       "50%       2.280000\n",
       "75%       4.662500\n",
       "max      10.250000\n",
       "Name: Global_Sales, dtype: float64"
      ]
     },
     "execution_count": 315,
     "metadata": {},
     "output_type": "execute_result"
    }
   ],
   "source": [
    "(dados_activision[dados_activision.Genre == 'Shooter']['Global_Sales']).describe()"
   ]
  },
  {
   "cell_type": "code",
   "execution_count": 316,
   "metadata": {},
   "outputs": [
    {
     "data": {
      "text/plain": [
       "64.05999999999999"
      ]
     },
     "execution_count": 316,
     "metadata": {},
     "output_type": "execute_result"
    }
   ],
   "source": [
    "vendas_tiro_act = sum(dados_activision[dados_activision.Genre == 'Shooter']['Global_Sales'])\n",
    "vendas_tiro_act"
   ]
  },
  {
   "cell_type": "code",
   "execution_count": 338,
   "metadata": {},
   "outputs": [
    {
     "data": {
      "text/plain": [
       "37.44884835730151"
      ]
     },
     "execution_count": 338,
     "metadata": {},
     "output_type": "execute_result"
    }
   ],
   "source": [
    "\n",
    "y = 100 *(vendas_tiro_act/vendas_tiro)\n",
    "y"
   ]
  },
  {
   "cell_type": "markdown",
   "metadata": {},
   "source": [
    "Com base nos processos detalhados anteriormente, é possível inferir que os jogos tendem a vender mais dependendo de quem for sua publisher, já que certas empresas possuem diversos jogos dentre os mais vendidos, além poderem representar uma grande parcela de um determinado mercado."
   ]
  },
  {
   "cell_type": "code",
   "execution_count": null,
   "metadata": {},
   "outputs": [],
   "source": []
  }
 ],
 "metadata": {
  "kernelspec": {
   "display_name": "Python 3",
   "language": "python",
   "name": "python3"
  },
  "language_info": {
   "codemirror_mode": {
    "name": "ipython",
    "version": 3
   },
   "file_extension": ".py",
   "mimetype": "text/x-python",
   "name": "python",
   "nbconvert_exporter": "python",
   "pygments_lexer": "ipython3",
   "version": "3.6.4"
  }
 },
 "nbformat": 4,
 "nbformat_minor": 2
}
